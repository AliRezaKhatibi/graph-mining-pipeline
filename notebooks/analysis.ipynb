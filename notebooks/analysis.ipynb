{
  "cells": [
    {
      "cell_type": "markdown",
      "metadata": {},
      "source": [
        "# Analysis Notebook\\nThis notebook demonstrates loading the sample, running preprocessing and a small community detection demo."
      ]
    },
    {
      "cell_type": "code",
      "metadata": {},
      "source": [
        "from src.ingest import load_edge_list\nfrom src.preprocess import df_to_graph, clean_graph\nfrom src.community import label_propagation_communities\nimport pandas as pd\n\n# load sample\ndf = load_edge_list(path='data/raw/email-Eu-core-sample.csv')\nG = df_to_graph(df)\nG = clean_graph(G)\nprint('Nodes,Edges ->', G.number_of_nodes(), G.number_of_edges())\nparts = label_propagation_communities(G)\nprint('Detected communities:', len(parts))\nfor p in parts:\n    print(list(p))\n"
      ]
    }
  ],
  "metadata": {
    "kernelspec": {
      "display_name": "Python 3",
      "language": "python",
      "name": "python3"
    },
    "language_info": {
      "name": "python"
    }
  },
  "nbformat": 4,
  "nbformat_minor": 5
}